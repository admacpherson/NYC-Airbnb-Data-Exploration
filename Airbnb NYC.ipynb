{
 "cells": [
  {
   "cell_type": "markdown",
   "id": "902534e1",
   "metadata": {},
   "source": [
    "<h2>Imports and Setup</h2>"
   ]
  },
  {
   "cell_type": "code",
   "execution_count": null,
   "id": "35e90120",
   "metadata": {},
   "outputs": [],
   "source": [
    "import pandas as pd\n",
    "import numpy as np\n",
    "import seaborn as sns\n",
    "import matplotlib.pyplot as plt\n",
    "import folium\n",
    "from folium.plugins import HeatMap"
   ]
  },
  {
   "cell_type": "code",
   "execution_count": null,
   "id": "bb62a5d7",
   "metadata": {},
   "outputs": [],
   "source": [
    "listings = pd.read_csv('listings-summary.csv')"
   ]
  },
  {
   "cell_type": "markdown",
   "id": "a07d1c28",
   "metadata": {},
   "source": [
    "<h2>Dataset Explortation</h2>"
   ]
  },
  {
   "cell_type": "code",
   "execution_count": null,
   "id": "0aca953d",
   "metadata": {},
   "outputs": [],
   "source": [
    "listings.shape"
   ]
  },
  {
   "cell_type": "code",
   "execution_count": null,
   "id": "6fc3a179",
   "metadata": {},
   "outputs": [],
   "source": [
    "listings.dtypes"
   ]
  },
  {
   "cell_type": "code",
   "execution_count": null,
   "id": "163f7b94",
   "metadata": {},
   "outputs": [],
   "source": [
    "listings.head()"
   ]
  },
  {
   "cell_type": "code",
   "execution_count": null,
   "id": "47892f31",
   "metadata": {},
   "outputs": [],
   "source": [
    "# Clean NAs\n",
    "listings['reviews_per_month'].fillna(0,inplace=True)"
   ]
  },
  {
   "cell_type": "code",
   "execution_count": null,
   "id": "32781365",
   "metadata": {},
   "outputs": [],
   "source": [
    "# Drop host name column\n",
    "listings.drop(['host_name'], axis=1, inplace=True)"
   ]
  },
  {
   "cell_type": "markdown",
   "id": "feef7f9a",
   "metadata": {},
   "source": [
    "<h2>Analysis & Visualizations</h2>"
   ]
  },
  {
   "cell_type": "markdown",
   "id": "4f62a001",
   "metadata": {},
   "source": [
    "<h3>Listings by Host</h3>"
   ]
  },
  {
   "cell_type": "code",
   "execution_count": null,
   "id": "f83cd010",
   "metadata": {},
   "outputs": [],
   "source": [
    "top_hosts = listings['host_id'].value_counts().head(10)"
   ]
  },
  {
   "cell_type": "code",
   "execution_count": null,
   "id": "881d38ee",
   "metadata": {},
   "outputs": [],
   "source": [
    "# Create bar chart with seaborn\n",
    "sns.set(rc={'figure.figsize':(10,8)})\n",
    "top_hosts_bar = top_hosts.plot(kind='bar')\n",
    "# Set axes\n",
    "top_hosts_bar.set_xlabel('Host IDs')\n",
    "top_hosts_bar.set_ylabel('Count of listings')\n",
    "# Adjust labels\n",
    "top_hosts_bar.set_title('Hosts with the most listings in New York City')\n",
    "top_hosts_bar.set_xticklabels(top_hosts_bar.get_xticklabels(), rotation=45)"
   ]
  },
  {
   "cell_type": "markdown",
   "id": "c1c50a8b",
   "metadata": {},
   "source": [
    "<h3>Listings by Bourough</h3>"
   ]
  },
  {
   "cell_type": "code",
   "execution_count": null,
   "id": "29e91d71",
   "metadata": {},
   "outputs": [],
   "source": [
    "# Create list of bouroughs by indexing neighbourhood_group values\n",
    "labels = listings.neighbourhood_group.value_counts().index\n",
    "# Define shape by count of listings in each bourough\n",
    "shape = listings.neighbourhood_group.value_counts().values\n",
    "\n",
    "# Define figure size\n",
    "plt.figure(figsize=(10,10))\n",
    "# Define pie chart with percentage labels\n",
    "plt.pie(shape, labels=shape, autopct = '%1.1f%%', startangle=90)\n",
    "# Add legend\n",
    "plt.legend(labels)\n",
    "# Add title\n",
    "plt.title(\"Listings by Bourough\")\n",
    "# Display pie chart\n",
    "plt.show()"
   ]
  },
  {
   "cell_type": "markdown",
   "id": "6cf76f10",
   "metadata": {},
   "source": [
    "<h4>Find Min and Max Long/Lat values for mapping</h4>"
   ]
  },
  {
   "cell_type": "code",
   "execution_count": null,
   "id": "23a61d72",
   "metadata": {},
   "outputs": [],
   "source": [
    "coord = listings.loc[:,['longitude','latitude']]\n",
    "coord.describe()"
   ]
  },
  {
   "cell_type": "markdown",
   "id": "7f3e50a0",
   "metadata": {},
   "source": [
    "<h3>Map Listings, Color Coordinated by Bourough</h3>"
   ]
  },
  {
   "cell_type": "code",
   "execution_count": null,
   "id": "fff5d224",
   "metadata": {},
   "outputs": [],
   "source": [
    "# Define plot size\n",
    "plt.figure(figsize=(15, 15))\n",
    "# Define color groups\n",
    "plt.style.use('fivethirtyeight')\n",
    "\n",
    "BBox = (-74.2829793, -73.6804367, 40.47516405, 40.936502950000005)\n",
    "bg_map = plt.imread('nyc_neighbourhoods_map_bw.png')\n",
    "plt.imshow(bg_map,zorder=0,extent=BBox)\n",
    "ax = plt.gca()\n",
    "\n",
    "groups = listings.groupby('neighbourhood_group')\n",
    "# Plot points\n",
    "for name,group in groups :\n",
    "    plt.scatter(group['longitude'],group['latitude'],label=name,alpha=0.5, edgecolors='k')\n",
    "# Add labels and legend and show\n",
    "plt.xlabel('Longitude')\n",
    "plt.ylabel('Latitude')\n",
    "plt.legend()\n",
    "plt.show()"
   ]
  },
  {
   "cell_type": "markdown",
   "id": "a9cd1ea7",
   "metadata": {},
   "source": [
    "<h3>Density Map</h3>"
   ]
  },
  {
   "cell_type": "code",
   "execution_count": null,
   "id": "20981681",
   "metadata": {
    "scrolled": true
   },
   "outputs": [],
   "source": [
    "# Create folium map centered on mean coordinates from above\n",
    "map_folium = folium.Map([40.728667, -73.946768],zoom_start=10.0)\n",
    "# Create heat map over folium map\n",
    "HeatMap(listings[['latitude','longitude']].dropna(),radius=10, gradient={0.2:'blue',0.4:'purple',0.6:'orange',0.8:'red', 1.0: 'darkred'}).add_to(map_folium)\n",
    "# Show map\n",
    "display(map_folium)"
   ]
  },
  {
   "cell_type": "markdown",
   "id": "f3d55c8a",
   "metadata": {},
   "source": [
    "<h3>Examine Price Data</h3>"
   ]
  },
  {
   "cell_type": "markdown",
   "id": "c5499a66",
   "metadata": {},
   "source": [
    "<h4>Drop N/A and describe data</h4>"
   ]
  },
  {
   "cell_type": "code",
   "execution_count": null,
   "id": "360f017a",
   "metadata": {},
   "outputs": [],
   "source": [
    "prices = listings['price'].dropna()\n",
    "prices.describe()"
   ]
  },
  {
   "cell_type": "markdown",
   "id": "858981f3",
   "metadata": {},
   "source": [
    "<h4>Create boxplot to visualize</h4>"
   ]
  },
  {
   "cell_type": "code",
   "execution_count": null,
   "id": "9643348c",
   "metadata": {},
   "outputs": [],
   "source": [
    "# Create box plot for prices\n",
    "plt.figure(figsize=(8, 6))\n",
    "plt.boxplot(prices, vert=True, patch_artist=True, boxprops=dict(facecolor='lightblue'))\n",
    "\n",
    "# Add labels and title\n",
    "plt.title('NYC Airbnb Prices')\n",
    "plt.ylabel('Price')\n",
    "\n",
    "# Show the plot\n",
    "plt.show()"
   ]
  },
  {
   "cell_type": "markdown",
   "id": "129ee6d2",
   "metadata": {},
   "source": [
    "<h4>Identify and remove outliers</h4>"
   ]
  },
  {
   "cell_type": "code",
   "execution_count": null,
   "id": "db10c68c",
   "metadata": {},
   "outputs": [],
   "source": [
    "# Calculate Q1, Q3, and IQR\n",
    "Q1 = prices.quantile(0.25)\n",
    "Q3 = prices.quantile(0.75)\n",
    "IQR = Q3 - Q1\n",
    "\n",
    "# Define bounds\n",
    "lower_bound = Q1 - 1.5 * IQR\n",
    "upper_bound = Q3 + 1.5 * IQR\n",
    "\n",
    "# Identify outliers\n",
    "outliers = prices[(prices < lower_bound) | (prices > upper_bound)]\n",
    "print(f\"Number of outliers: {len(outliers)}\")\n",
    "print(f\"Total data points: {len(prices)}\")\n",
    "print(f\"{round(len(outliers) / len(prices)*100, 2)}%\")\n",
    "\n",
    "# Filter data to remove outliers\n",
    "filtered_prices = prices[(prices >= lower_bound) & (prices <= upper_bound)]"
   ]
  },
  {
   "cell_type": "markdown",
   "id": "67ae16b6",
   "metadata": {},
   "source": [
    "<h4>Create boxplots with outliers removed</h4>"
   ]
  },
  {
   "cell_type": "code",
   "execution_count": null,
   "id": "717cce48",
   "metadata": {},
   "outputs": [],
   "source": [
    "# Create updated boxplot\n",
    "plt.figure(figsize=(8, 6))\n",
    "plt.boxplot(filtered_prices, vert=True, patch_artist=True, boxprops=dict(facecolor='lightblue'))\n",
    "\n",
    "# Add labels and title\n",
    "plt.title('NYC Airbnb Prices (Outliers Excluded)')\n",
    "plt.ylabel('Price')\n",
    "\n",
    "# Show the plot\n",
    "plt.show()"
   ]
  },
  {
   "cell_type": "code",
   "execution_count": null,
   "id": "3cfeb3d7",
   "metadata": {},
   "outputs": [],
   "source": [
    "# Filter data to remove outliers\n",
    "filtered_listings = listings[(listings['price'] >= lower_bound) & (listings['price'] <= upper_bound)]\n",
    "\n",
    "# Create price map of NYC\n",
    "plt.figure(figsize=(18,12))\n",
    "sg_map = plt.imread('nyc_neighbourhoods_map_bw.png')\n",
    "plt.imshow(sg_map,zorder=0,extent=BBox)\n",
    "ax = plt.gca()\n",
    "filtered_listings.plot(kind='scatter',x='longitude',y='latitude',label='Listing Location', c='price', ax=ax, cmap=plt.get_cmap('jet'), colorbar=True, alpha=0.4, zorder=5)\n",
    "plt.show()"
   ]
  }
 ],
 "metadata": {
  "kernelspec": {
   "display_name": "Python 3 (ipykernel)",
   "language": "python",
   "name": "python3"
  },
  "language_info": {
   "codemirror_mode": {
    "name": "ipython",
    "version": 3
   },
   "file_extension": ".py",
   "mimetype": "text/x-python",
   "name": "python",
   "nbconvert_exporter": "python",
   "pygments_lexer": "ipython3",
   "version": "3.7.11"
  }
 },
 "nbformat": 4,
 "nbformat_minor": 5
}
