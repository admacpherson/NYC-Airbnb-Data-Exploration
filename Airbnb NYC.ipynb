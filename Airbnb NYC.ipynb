{
 "cells": [
  {
   "cell_type": "markdown",
   "id": "902534e1",
   "metadata": {},
   "source": [
    "<h2>Imports and Setup</h2>"
   ]
  },
  {
   "cell_type": "code",
   "execution_count": 9,
   "id": "35e90120",
   "metadata": {},
   "outputs": [],
   "source": [
    "import pandas as pd\n",
    "import numpy as np\n",
    "import seaborn as sns"
   ]
  },
  {
   "cell_type": "code",
   "execution_count": 2,
   "id": "bb62a5d7",
   "metadata": {},
   "outputs": [],
   "source": [
    "listings = pd.read_csv('listings-summary.csv')"
   ]
  },
  {
   "cell_type": "markdown",
   "id": "a07d1c28",
   "metadata": {},
   "source": [
    "<h2>Dataset Explortation</h2>"
   ]
  },
  {
   "cell_type": "code",
   "execution_count": 3,
   "id": "0aca953d",
   "metadata": {},
   "outputs": [
    {
     "data": {
      "text/plain": [
       "(37548, 18)"
      ]
     },
     "execution_count": 3,
     "metadata": {},
     "output_type": "execute_result"
    }
   ],
   "source": [
    "listings.shape"
   ]
  },
  {
   "cell_type": "code",
   "execution_count": 4,
   "id": "6fc3a179",
   "metadata": {},
   "outputs": [
    {
     "data": {
      "text/plain": [
       "id                                  int64\n",
       "name                               object\n",
       "host_id                             int64\n",
       "host_name                          object\n",
       "neighbourhood_group                object\n",
       "neighbourhood                      object\n",
       "latitude                          float64\n",
       "longitude                         float64\n",
       "room_type                          object\n",
       "price                             float64\n",
       "minimum_nights                      int64\n",
       "number_of_reviews                   int64\n",
       "last_review                        object\n",
       "reviews_per_month                 float64\n",
       "calculated_host_listings_count      int64\n",
       "availability_365                    int64\n",
       "number_of_reviews_ltm               int64\n",
       "license                            object\n",
       "dtype: object"
      ]
     },
     "execution_count": 4,
     "metadata": {},
     "output_type": "execute_result"
    }
   ],
   "source": [
    "listings.dtypes"
   ]
  },
  {
   "cell_type": "code",
   "execution_count": 5,
   "id": "163f7b94",
   "metadata": {},
   "outputs": [
    {
     "data": {
      "text/html": [
       "<div>\n",
       "<style scoped>\n",
       "    .dataframe tbody tr th:only-of-type {\n",
       "        vertical-align: middle;\n",
       "    }\n",
       "\n",
       "    .dataframe tbody tr th {\n",
       "        vertical-align: top;\n",
       "    }\n",
       "\n",
       "    .dataframe thead th {\n",
       "        text-align: right;\n",
       "    }\n",
       "</style>\n",
       "<table border=\"1\" class=\"dataframe\">\n",
       "  <thead>\n",
       "    <tr style=\"text-align: right;\">\n",
       "      <th></th>\n",
       "      <th>id</th>\n",
       "      <th>name</th>\n",
       "      <th>host_id</th>\n",
       "      <th>host_name</th>\n",
       "      <th>neighbourhood_group</th>\n",
       "      <th>neighbourhood</th>\n",
       "      <th>latitude</th>\n",
       "      <th>longitude</th>\n",
       "      <th>room_type</th>\n",
       "      <th>price</th>\n",
       "      <th>minimum_nights</th>\n",
       "      <th>number_of_reviews</th>\n",
       "      <th>last_review</th>\n",
       "      <th>reviews_per_month</th>\n",
       "      <th>calculated_host_listings_count</th>\n",
       "      <th>availability_365</th>\n",
       "      <th>number_of_reviews_ltm</th>\n",
       "      <th>license</th>\n",
       "    </tr>\n",
       "  </thead>\n",
       "  <tbody>\n",
       "    <tr>\n",
       "      <th>0</th>\n",
       "      <td>2595</td>\n",
       "      <td>Skylit Midtown Castle Sanctuary</td>\n",
       "      <td>2845</td>\n",
       "      <td>Jennifer</td>\n",
       "      <td>Manhattan</td>\n",
       "      <td>Midtown</td>\n",
       "      <td>40.75356</td>\n",
       "      <td>-73.98559</td>\n",
       "      <td>Entire home/apt</td>\n",
       "      <td>240.0</td>\n",
       "      <td>30</td>\n",
       "      <td>49</td>\n",
       "      <td>2022-06-21</td>\n",
       "      <td>0.27</td>\n",
       "      <td>3</td>\n",
       "      <td>365</td>\n",
       "      <td>0</td>\n",
       "      <td>NaN</td>\n",
       "    </tr>\n",
       "    <tr>\n",
       "      <th>1</th>\n",
       "      <td>6848</td>\n",
       "      <td>Only 2 stops to Manhattan studio</td>\n",
       "      <td>15991</td>\n",
       "      <td>Allen &amp; Irina</td>\n",
       "      <td>Brooklyn</td>\n",
       "      <td>Williamsburg</td>\n",
       "      <td>40.70935</td>\n",
       "      <td>-73.95342</td>\n",
       "      <td>Entire home/apt</td>\n",
       "      <td>83.0</td>\n",
       "      <td>30</td>\n",
       "      <td>195</td>\n",
       "      <td>2024-10-05</td>\n",
       "      <td>1.04</td>\n",
       "      <td>1</td>\n",
       "      <td>185</td>\n",
       "      <td>4</td>\n",
       "      <td>NaN</td>\n",
       "    </tr>\n",
       "    <tr>\n",
       "      <th>2</th>\n",
       "      <td>6872</td>\n",
       "      <td>Uptown Sanctuary w/ Private Bath (Month to Month)</td>\n",
       "      <td>16104</td>\n",
       "      <td>Kae</td>\n",
       "      <td>Manhattan</td>\n",
       "      <td>East Harlem</td>\n",
       "      <td>40.80107</td>\n",
       "      <td>-73.94255</td>\n",
       "      <td>Private room</td>\n",
       "      <td>65.0</td>\n",
       "      <td>30</td>\n",
       "      <td>1</td>\n",
       "      <td>2022-06-05</td>\n",
       "      <td>0.03</td>\n",
       "      <td>2</td>\n",
       "      <td>83</td>\n",
       "      <td>0</td>\n",
       "      <td>NaN</td>\n",
       "    </tr>\n",
       "    <tr>\n",
       "      <th>3</th>\n",
       "      <td>6990</td>\n",
       "      <td>UES Beautiful Blue Room</td>\n",
       "      <td>16800</td>\n",
       "      <td>Cyn</td>\n",
       "      <td>Manhattan</td>\n",
       "      <td>East Harlem</td>\n",
       "      <td>40.78778</td>\n",
       "      <td>-73.94759</td>\n",
       "      <td>Private room</td>\n",
       "      <td>71.0</td>\n",
       "      <td>30</td>\n",
       "      <td>250</td>\n",
       "      <td>2024-10-31</td>\n",
       "      <td>1.37</td>\n",
       "      <td>1</td>\n",
       "      <td>284</td>\n",
       "      <td>4</td>\n",
       "      <td>NaN</td>\n",
       "    </tr>\n",
       "    <tr>\n",
       "      <th>4</th>\n",
       "      <td>7064</td>\n",
       "      <td>Amazing location! Wburg. Large, bright &amp; tranquil</td>\n",
       "      <td>17297</td>\n",
       "      <td>Joelle</td>\n",
       "      <td>Brooklyn</td>\n",
       "      <td>Williamsburg</td>\n",
       "      <td>40.71248</td>\n",
       "      <td>-73.95881</td>\n",
       "      <td>Private room</td>\n",
       "      <td>NaN</td>\n",
       "      <td>30</td>\n",
       "      <td>13</td>\n",
       "      <td>2022-09-12</td>\n",
       "      <td>0.08</td>\n",
       "      <td>2</td>\n",
       "      <td>0</td>\n",
       "      <td>0</td>\n",
       "      <td>NaN</td>\n",
       "    </tr>\n",
       "  </tbody>\n",
       "</table>\n",
       "</div>"
      ],
      "text/plain": [
       "     id                                               name  host_id  \\\n",
       "0  2595                    Skylit Midtown Castle Sanctuary     2845   \n",
       "1  6848                   Only 2 stops to Manhattan studio    15991   \n",
       "2  6872  Uptown Sanctuary w/ Private Bath (Month to Month)    16104   \n",
       "3  6990                            UES Beautiful Blue Room    16800   \n",
       "4  7064  Amazing location! Wburg. Large, bright & tranquil    17297   \n",
       "\n",
       "       host_name neighbourhood_group neighbourhood  latitude  longitude  \\\n",
       "0       Jennifer           Manhattan       Midtown  40.75356  -73.98559   \n",
       "1  Allen & Irina            Brooklyn  Williamsburg  40.70935  -73.95342   \n",
       "2            Kae           Manhattan   East Harlem  40.80107  -73.94255   \n",
       "3            Cyn           Manhattan   East Harlem  40.78778  -73.94759   \n",
       "4         Joelle            Brooklyn  Williamsburg  40.71248  -73.95881   \n",
       "\n",
       "         room_type  price  minimum_nights  number_of_reviews last_review  \\\n",
       "0  Entire home/apt  240.0              30                 49  2022-06-21   \n",
       "1  Entire home/apt   83.0              30                195  2024-10-05   \n",
       "2     Private room   65.0              30                  1  2022-06-05   \n",
       "3     Private room   71.0              30                250  2024-10-31   \n",
       "4     Private room    NaN              30                 13  2022-09-12   \n",
       "\n",
       "   reviews_per_month  calculated_host_listings_count  availability_365  \\\n",
       "0               0.27                               3               365   \n",
       "1               1.04                               1               185   \n",
       "2               0.03                               2                83   \n",
       "3               1.37                               1               284   \n",
       "4               0.08                               2                 0   \n",
       "\n",
       "   number_of_reviews_ltm license  \n",
       "0                      0     NaN  \n",
       "1                      4     NaN  \n",
       "2                      0     NaN  \n",
       "3                      4     NaN  \n",
       "4                      0     NaN  "
      ]
     },
     "execution_count": 5,
     "metadata": {},
     "output_type": "execute_result"
    }
   ],
   "source": [
    "listings.head()"
   ]
  },
  {
   "cell_type": "code",
   "execution_count": 6,
   "id": "47892f31",
   "metadata": {},
   "outputs": [],
   "source": [
    "# Clean NAs\n",
    "listings['reviews_per_month'].fillna(0,inplace=True)"
   ]
  },
  {
   "cell_type": "code",
   "execution_count": 7,
   "id": "32781365",
   "metadata": {},
   "outputs": [],
   "source": [
    "# Drop host name column\n",
    "listings.drop(['host_name'], axis=1, inplace=True)"
   ]
  },
  {
   "cell_type": "markdown",
   "id": "feef7f9a",
   "metadata": {},
   "source": [
    "<h2>Host Analysis</h2?"
   ]
  },
  {
   "cell_type": "code",
   "execution_count": 8,
   "id": "f83cd010",
   "metadata": {},
   "outputs": [],
   "source": [
    "top_hosts = listings['host_id'].value_counts().head(10)"
   ]
  },
  {
   "cell_type": "code",
   "execution_count": 16,
   "id": "881d38ee",
   "metadata": {},
   "outputs": [
    {
     "data": {
      "text/plain": [
       "[Text(0, 0, '107434423'),\n",
       " Text(1, 0, '3223938'),\n",
       " Text(2, 0, '446820235'),\n",
       " Text(3, 0, '305240193'),\n",
       " Text(4, 0, '19303369'),\n",
       " Text(5, 0, '501999278'),\n",
       " Text(6, 0, '200239515'),\n",
       " Text(7, 0, '162280872'),\n",
       " Text(8, 0, '204704622'),\n",
       " Text(9, 0, '501499086')]"
      ]
     },
     "execution_count": 16,
     "metadata": {},
     "output_type": "execute_result"
    },
    {
     "data": {
      "image/png": "[encoded data removed]",
      "text/plain": [
       "<Figure size 720x576 with 1 Axes>"
      ]
     },
     "metadata": {},
     "output_type": "display_data"
    }
   ],
   "source": [
    "# Create bar chart with seaborn\n",
    "sns.set(rc={'figure.figsize':(10,8)})\n",
    "top_hosts_bar = top_hosts.plot(kind='bar')\n",
    "# Set axes\n",
    "top_hosts_bar.set_xlabel('Host IDs')\n",
    "top_hosts_bar.set_ylabel('Count of listings')\n",
    "# Adjust labels\n",
    "top_hosts_bar.set_title('Hosts with the most listings in New York City')\n",
    "top_hosts_bar.set_xticklabels(top_hosts_bar.get_xticklabels(), rotation=45)"
   ]
  },
  {
   "cell_type": "code",
   "execution_count": null,
   "id": "23a61d72",
   "metadata": {},
   "outputs": [],
   "source": []
  }
 ],
 "metadata": {
  "kernelspec": {
   "display_name": "Python 3 (ipykernel)",
   "language": "python",
   "name": "python3"
  },
  "language_info": {
   "codemirror_mode": {
    "name": "ipython",
    "version": 3
   },
   "file_extension": ".py",
   "mimetype": "text/x-python",
   "name": "python",
   "nbconvert_exporter": "python",
   "pygments_lexer": "ipython3",
   "version": "3.7.11"
  }
 },
 "nbformat": 4,
 "nbformat_minor": 5
}
